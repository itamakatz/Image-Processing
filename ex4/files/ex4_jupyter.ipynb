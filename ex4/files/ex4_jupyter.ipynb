{
 "cells": [
  {
   "cell_type": "code",
   "execution_count": 26,
   "metadata": {
    "collapsed": true
   },
   "outputs": [],
   "source": [
    "import numpy as np\n",
    "import scipy.special\n",
    "from scipy.signal import convolve2d\n",
    "import os\n",
    "import os\n",
    "import functools\n",
    "import numpy as np\n",
    "import scipy.special\n",
    "from scipy.misc import imread\n",
    "from skimage.color import rgb2gray\n",
    "from scipy.signal import convolve2d\n",
    "from scipy.ndimage import map_coordinates"
   ]
  },
  {
   "cell_type": "code",
   "execution_count": 27,
   "metadata": {},
   "outputs": [],
   "source": [
    "def read_image(filename, representation):\n",
    "    # filename - file to open as image\n",
    "    # representation - is it a B&W or color image\n",
    "    im = imread(filename)\n",
    "    # check if it is a B&W image\n",
    "    if(representation == 1):\n",
    "        im = rgb2gray(im)\n",
    "    # convert to float and normalize\n",
    "    return (im / 255).astype(np.float32)\n",
    "\n",
    "def relpath(filename):\n",
    "    # converts relative paths to absolute\n",
    "    # filename - relative path\n",
    "    # returns - absolute path\n",
    "    return os.path.join(os.path.dirname(__file__), filename)\n",
    "\n",
    "def create_filter_vec(filter_size):\n",
    "    # creates a binomial coefficient of length filter_size\n",
    "    # filter_size - length of the coefficient array\n",
    "    # returns - the binomial coefficient array\n",
    "\n",
    "    # special case of an odd number.\n",
    "    if filter_size == 1: return np.array([[0]])\n",
    "    conv_ker =  np.array([[1, 1]])\n",
    "    filter = conv_ker\n",
    "    # using an O(logN) algorithm to compute the filter\n",
    "    log2 = np.log2(filter_size - 1)\n",
    "    whole = np.floor(log2).astype(np.int64)\n",
    "    rest = (2**(log2) - 2**(whole)).astype(np.int64)\n",
    "    for i in range(whole):\n",
    "        filter = convolve2d(filter, filter).astype(np.float32)\n",
    "    for i in range(rest):\n",
    "        filter = convolve2d(filter, conv_ker).astype(np.float32)\n",
    "    # normalize\n",
    "    return (filter / np.sum(filter)).astype(np.float32)\n",
    "\n",
    "def build_gaussian_pyramid(im, max_levels, filter_size):\n",
    "    # calc the filter array\n",
    "    filter_vec = create_filter_vec(filter_size)\n",
    "    # create the entire array for better complexity\n",
    "    pyr = [0] * (np.min([max_levels, np.log2(im.shape[0]).astype(np.int64) - 3,\n",
    "                         np.log2(im.shape[1]).astype(np.int64) - 3]))\n",
    "    pyr[0] = im\n",
    "    # for each iter, use the last iter to calc the current iter. note i transpose twice. once to calc\n",
    "    # the y conv and the second to flip back the image\n",
    "    for i in range(1, len(pyr)):\n",
    "        pyr[i] = scipy.ndimage.filters.convolve(pyr[i - 1], filter_vec, output = None, mode = 'mirror')\n",
    "        pyr[i] = scipy.ndimage.filters.convolve(pyr[i].transpose(), filter_vec, output = None, mode = 'mirror')\n",
    "        pyr[i] = (pyr[i].transpose()[::2, ::2]).astype(np.float32)\n",
    "    return pyr, filter_vec"
   ]
  },
  {
   "cell_type": "code",
   "execution_count": 28,
   "metadata": {},
   "outputs": [],
   "source": [
    "im1 = read_image(\"/home/itamar/Documents/ip/ex4/files/external/oxford1.jpg\", 1)\n",
    "\n",
    "pyr1, _ = build_gaussian_pyramid(im1, max_levels=3, filter_size=3)"
   ]
  },
  {
   "cell_type": "code",
   "execution_count": 41,
   "metadata": {},
   "outputs": [],
   "source": [
    "bb = np.array([[0.5 ,1.5 ,2.5 ,3.5 ,4.5 ,5.5 ,6.5\n",
    "          ,0.5 ,1.5 ,2.5 ,3.5 ,4.5 ,5.5 ,6.5\n",
    "          ,0.5 ,1.5 ,2.5 ,3.5 ,4.5 ,5.5 ,6.5\n",
    "          ,0.5 ,1.5 ,2.5 ,3.5 ,4.5 ,5.5 ,6.5\n",
    "          ,0.5 ,1.5 ,2.5 ,3.5 ,4.5 ,5.5 ,6.5\n",
    "          ,0.5 ,1.5 ,2.5 ,3.5 ,4.5 ,5.5 ,6.5\n",
    "          ,0.5 ,1.5 ,2.5 ,3.5 ,4.5 ,5.5 ,6.5],\n",
    "          [160.75, 160.75, 160.75, 160.75, 160.75, 160.75, 160.75\n",
    "          ,161.75, 161.75, 161.75, 161.75, 161.75, 161.75, 161.75\n",
    "          ,162.75, 162.75, 162.75, 162.75, 162.75, 162.75, 162.75\n",
    "          ,163.75, 163.75, 163.75, 163.75, 163.75, 163.75, 163.75\n",
    "          ,164.75, 164.75, 164.75, 164.75, 164.75, 164.75, 164.75\n",
    "          ,165.75, 165.75, 165.75, 165.75, 165.75, 165.75, 165.75\n",
    "          ,166.75, 166.75, 166.75, 166.75, 166.75, 166.75, 166.75]])\n",
    "K = 7"
   ]
  },
  {
   "cell_type": "code",
   "execution_count": 54,
   "metadata": {},
   "outputs": [],
   "source": [
    "bb.shape\n",
    "a = bb[0]\n",
    "b = bb[1]\n",
    "c = np.array([b,a])\n",
    "import math"
   ]
  },
  {
   "cell_type": "code",
   "execution_count": 55,
   "metadata": {},
   "outputs": [
    {
     "data": {
      "text/plain": [
       "array([[  4.44253528e-04,   1.41362092e-04,   7.68693571e-05,\n          1.23648919e-04,   5.00089955e-04,   9.41918639e-04,\n          1.06451684e-03],\n       [  4.17557370e-04,   1.33181762e-04,   7.78376998e-05,\n          1.33783426e-04,   5.11539867e-04,   9.46037530e-04,\n          1.07191980e-03],\n       [  3.98587028e-04,   1.28587883e-04,   8.15829480e-05,\n          1.49279018e-04,   5.35091094e-04,   9.58444551e-04,\n          1.07379677e-03],\n       [  3.69321613e-04,   1.22075886e-04,   8.08141995e-05,\n          1.58561204e-04,   5.54377912e-04,   9.61689744e-04,\n          1.05731352e-03],\n       [  3.33312753e-04,   1.12575421e-04,   7.91027414e-05,\n          1.75967682e-04,   5.74724341e-04,   9.13641183e-04,\n          9.51379538e-04],\n       [  2.97695922e-04,   1.00632475e-04,   7.71745399e-05,\n          1.89796323e-04,   5.92204684e-04,   9.42805025e-04,\n          1.03746413e-03],\n       [  2.67473632e-04,   9.90625995e-05,   8.08675977e-05,\n          2.04091717e-04,   6.48594170e-04,   1.02889328e-03,\n          1.09167804e-03]], dtype=float32)"
      ]
     },
     "execution_count": 55,
     "metadata": {},
     "output_type": "execute_result"
    }
   ],
   "source": [
    "map_coordinates(pyr1[2], c, order=1, prefilter=False).reshape(K, K)"
   ]
  },
  {
   "cell_type": "code",
   "execution_count": 58,
   "metadata": {},
   "outputs": [
    {
     "data": {
      "text/plain": [
       "4"
      ]
     },
     "execution_count": 58,
     "metadata": {},
     "output_type": "execute_result"
    }
   ],
   "source": [
    "b = np.array([[1,2,3], [4,5,6], [7,8,9]])\n",
    "b[1,0]"
   ]
  },
  {
   "cell_type": "code",
   "execution_count": 59,
   "metadata": {},
   "outputs": [
    {
     "data": {
      "text/plain": [
       "array([[0, 0],\n       [1, 0],\n       [2, 0],\n       [3, 0],\n       [4, 0],\n       [0, 1],\n       [1, 1],\n       [2, 1],\n       [3, 1],\n       [4, 1],\n       [0, 2],\n       [1, 2],\n       [2, 2],\n       [3, 2],\n       [4, 2],\n       [0, 3],\n       [1, 3],\n       [2, 3],\n       [3, 3],\n       [4, 3],\n       [0, 4],\n       [1, 4],\n       [2, 4],\n       [3, 4],\n       [4, 4]])"
      ]
     },
     "execution_count": 59,
     "metadata": {},
     "output_type": "execute_result"
    }
   ],
   "source": [
    "np.dstack(np.meshgrid(np.arange(5), np.arange(5))).reshape(-1, 2)"
   ]
  },
  {
   "cell_type": "code",
   "execution_count": null,
   "metadata": {},
   "outputs": [],
   "source": [
    ""
   ]
  }
 ],
 "metadata": {
  "kernelspec": {
   "display_name": "Python 2",
   "language": "python",
   "name": "python2"
  },
  "language_info": {
   "codemirror_mode": {
    "name": "ipython",
    "version": 2.0
   },
   "file_extension": ".py",
   "mimetype": "text/x-python",
   "name": "python",
   "nbconvert_exporter": "python",
   "pygments_lexer": "ipython2",
   "version": "2.7.6"
  }
 },
 "nbformat": 4,
 "nbformat_minor": 0
}