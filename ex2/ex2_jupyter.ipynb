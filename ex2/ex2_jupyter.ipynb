{
 "cells": [
  {
   "cell_type": "code",
   "execution_count": 263,
   "metadata": {},
   "outputs": [],
   "source": [
    "%matplotlib inline\n",
    "import matplotlib.pyplot as plt\n",
    "import numpy as np\n",
    "import scipy.special"
   ]
  },
  {
   "cell_type": "code",
   "execution_count": 264,
   "metadata": {},
   "outputs": [
    {
     "data": {
      "text/plain": [
       "array([ 0.+0.j,  0.+0.j,  0.-0.j,  0.+0.j])"
      ]
     },
     "execution_count": 264,
     "metadata": {},
     "output_type": "execute_result"
    }
   ],
   "source": [
    "a = np.arange(4)\n",
    "vander = np.vander((np.exp(-1 * 2 * np.pi * 1j * np.arange(a.shape[0]) / a.shape[0])), increasing=True)\n",
    "np.around(vander.dot(a), 14) - np.fft.fft(a)"
   ]
  },
  {
   "cell_type": "code",
   "execution_count": 265,
   "metadata": {},
   "outputs": [
    {
     "data": {
      "text/plain": [
       "array([[ 0.+0.j,  0.+0.j,  0.-0.j,  0.+0.j],\n       [-0.-0.j,  0.+0.j,  0.+0.j, -0.+0.j],\n       [ 0.-0.j,  0.+0.j, -0.+0.j, -0.+0.j],\n       [ 0.-0.j,  0.+0.j, -0.+0.j, -0.+0.j]])"
      ]
     },
     "execution_count": 265,
     "metadata": {},
     "output_type": "execute_result"
    }
   ],
   "source": [
    "xv, yv = np.meshgrid(a, a)\n",
    "f1 = vander.dot(xv.dot(vander))\n",
    "np.around(f1, 13) - np.fft.fft2(xv)"
   ]
  },
  {
   "cell_type": "code",
   "execution_count": 329,
   "metadata": {},
   "outputs": [
    {
     "data": {
      "text/plain": [
       "array([[   1,    8,   28,   56,   70,   56,   28,    8,    1],\n       [   8,   64,  224,  448,  560,  448,  224,   64,    8],\n       [  28,  224,  784, 1568, 1960, 1568,  784,  224,   28],\n       [  56,  448, 1568, 3136, 3920, 3136, 1568,  448,   56],\n       [  70,  560, 1960, 3920, 4900, 3920, 1960,  560,   70],\n       [  56,  448, 1568, 3136, 3920, 3136, 1568,  448,   56],\n       [  28,  224,  784, 1568, 1960, 1568,  784,  224,   28],\n       [   8,   64,  224,  448,  560,  448,  224,   64,    8],\n       [   1,    8,   28,   56,   70,   56,   28,    8,    1]])"
      ]
     },
     "execution_count": 329,
     "metadata": {},
     "output_type": "execute_result"
    }
   ],
   "source": [
    "n = 8\n",
    "c = scipy.special.binom(n, np.arange(n + 1)).astype(np.int64)\n",
    "\n",
    "c1 = c[:, np.newaxis]\n",
    "c2 = c[np.newaxis, :]\n",
    "\n",
    "r = scipy.signal.convolve2d(c1, c2)\n",
    "r"
   ]
  },
  {
   "cell_type": "code",
   "execution_count": 341,
   "metadata": {},
   "outputs": [
    {
     "data": {
      "text/plain": [
       "array([[  1.52587891e-05,   1.22070312e-04,   4.27246094e-04,\n          8.54492188e-04,   1.06811523e-03,   8.54492188e-04,\n          4.27246094e-04,   1.22070312e-04,   1.52587891e-05],\n       [  1.22070312e-04,   9.76562500e-04,   3.41796875e-03,\n          6.83593750e-03,   8.54492188e-03,   6.83593750e-03,\n          3.41796875e-03,   9.76562500e-04,   1.22070312e-04],\n       [  4.27246094e-04,   3.41796875e-03,   1.19628906e-02,\n          2.39257812e-02,   2.99072266e-02,   2.39257812e-02,\n          1.19628906e-02,   3.41796875e-03,   4.27246094e-04],\n       [  8.54492188e-04,   6.83593750e-03,   2.39257812e-02,\n          4.78515625e-02,   5.98144531e-02,   4.78515625e-02,\n          2.39257812e-02,   6.83593750e-03,   8.54492188e-04],\n       [  1.06811523e-03,   8.54492188e-03,   2.99072266e-02,\n          5.98144531e-02,   7.47680664e-02,   5.98144531e-02,\n          2.99072266e-02,   8.54492188e-03,   1.06811523e-03],\n       [  8.54492188e-04,   6.83593750e-03,   2.39257812e-02,\n          4.78515625e-02,   5.98144531e-02,   4.78515625e-02,\n          2.39257812e-02,   6.83593750e-03,   8.54492188e-04],\n       [  4.27246094e-04,   3.41796875e-03,   1.19628906e-02,\n          2.39257812e-02,   2.99072266e-02,   2.39257812e-02,\n          1.19628906e-02,   3.41796875e-03,   4.27246094e-04],\n       [  1.22070312e-04,   9.76562500e-04,   3.41796875e-03,\n          6.83593750e-03,   8.54492188e-03,   6.83593750e-03,\n          3.41796875e-03,   9.76562500e-04,   1.22070312e-04],\n       [  1.52587891e-05,   1.22070312e-04,   4.27246094e-04,\n          8.54492188e-04,   1.06811523e-03,   8.54492188e-04,\n          4.27246094e-04,   1.22070312e-04,   1.52587891e-05]])"
      ]
     },
     "execution_count": 341,
     "metadata": {},
     "output_type": "execute_result"
    }
   ],
   "source": [
    "r = r / np.sum(r)\n",
    "r"
   ]
  },
  {
   "cell_type": "code",
   "execution_count": 342,
   "metadata": {},
   "outputs": [
    {
     "data": {
      "text/plain": [
       "1.0"
      ]
     },
     "execution_count": 342,
     "metadata": {},
     "output_type": "execute_result"
    }
   ],
   "source": [
    "np.sum(r)"
   ]
  },
  {
   "cell_type": "code",
   "execution_count": 362,
   "metadata": {},
   "outputs": [
    {
     "data": {
      "text/plain": [
       "10"
      ]
     },
     "execution_count": 362,
     "metadata": {},
     "output_type": "execute_result"
    }
   ],
   "source": [
    "lala = np.random.rand(10,1).shape[0]\n",
    "lala"
   ]
  },
  {
   "cell_type": "code",
   "execution_count": 363,
   "metadata": {},
   "outputs": [
    {
     "data": {
      "text/plain": [
       "10"
      ]
     },
     "execution_count": 363,
     "metadata": {},
     "output_type": "execute_result"
    }
   ],
   "source": [
    "np.random.rand(10,).shape[0]"
   ]
  },
  {
   "cell_type": "code",
   "execution_count": null,
   "metadata": {},
   "outputs": [],
   "source": [
    ""
   ]
  }
 ],
 "metadata": {
  "kernelspec": {
   "display_name": "Python 2",
   "language": "python",
   "name": "python2"
  },
  "language_info": {
   "codemirror_mode": {
    "name": "ipython",
    "version": 2.0
   },
   "file_extension": ".py",
   "mimetype": "text/x-python",
   "name": "python",
   "nbconvert_exporter": "python",
   "pygments_lexer": "ipython2",
   "version": "2.7.6"
  }
 },
 "nbformat": 4,
 "nbformat_minor": 0
}