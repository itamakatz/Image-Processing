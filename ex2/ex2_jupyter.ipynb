{
 "cells": [
  {
   "cell_type": "code",
   "execution_count": 158,
   "metadata": {},
   "outputs": [],
   "source": [
    "%matplotlib inline\n",
    "import matplotlib.pyplot as plt\n",
    "import numpy as np"
   ]
  },
  {
   "cell_type": "code",
   "execution_count": 174,
   "metadata": {},
   "outputs": [
    {
     "data": {
      "text/plain": [
       "array([0, 1, 2, 3])"
      ]
     },
     "execution_count": 174,
     "metadata": {},
     "output_type": "execute_result"
    }
   ],
   "source": [
    "a = np.arange(4)\n",
    "a"
   ]
  },
  {
   "cell_type": "code",
   "execution_count": 175,
   "metadata": {},
   "outputs": [
    {
     "data": {
      "text/plain": [
       "array([ 6. +0.00000000e+00j, -2. +2.00000000e+00j, -2. -7.34788079e-16j,\n       -2. -2.00000000e+00j])"
      ]
     },
     "execution_count": 175,
     "metadata": {},
     "output_type": "execute_result"
    }
   ],
   "source": [
    "vander = np.vander((np.exp(-1 * 2 * np.pi * 1j * np.arange(a.shape[0]) / a.shape[0])), increasing=True)\n",
    "sol = vander.dot(a)\n",
    "sol"
   ]
  },
  {
   "cell_type": "code",
   "execution_count": 176,
   "metadata": {},
   "outputs": [
    {
     "data": {
      "text/plain": [
       "array([ 6.+0.j, -2.+2.j, -2.+0.j, -2.-2.j])"
      ]
     },
     "execution_count": 176,
     "metadata": {},
     "output_type": "execute_result"
    }
   ],
   "source": [
    "np.fft.fft(a)"
   ]
  },
  {
   "cell_type": "code",
   "execution_count": 180,
   "metadata": {},
   "outputs": [
    {
     "data": {
      "text/plain": [
       "array([[0, 1, 2, 3],\n       [0, 1, 2, 3],\n       [0, 1, 2, 3],\n       [0, 1, 2, 3]])"
      ]
     },
     "execution_count": 180,
     "metadata": {},
     "output_type": "execute_result"
    }
   ],
   "source": [
    "xv, yv = np.meshgrid(a, a)\n",
    "xv"
   ]
  },
  {
   "cell_type": "code",
   "execution_count": 203,
   "metadata": {},
   "outputs": [
    {
     "data": {
      "text/plain": [
       "array([[ 24.+0.j,  -8.+8.j,  -8.-0.j,  -8.-8.j],\n       [ -0.-0.j,   0.+0.j,   0.+0.j,  -0.+0.j],\n       [  0.-0.j,   0.+0.j,  -0.+0.j,  -0.+0.j],\n       [  0.-0.j,   0.+0.j,  -0.+0.j,  -0.+0.j]])"
      ]
     },
     "execution_count": 203,
     "metadata": {},
     "output_type": "execute_result"
    }
   ],
   "source": [
    "f1 = vander.dot(xv.dot(vander))\n",
    "# f1 = f1*0 + np.real_if_close(f1, tol=10000000000000000)\n",
    "# r = vander.dot(f1)\n",
    "n = np.around(f1,14)\n",
    "n"
   ]
  },
  {
   "cell_type": "code",
   "execution_count": 182,
   "metadata": {},
   "outputs": [
    {
     "data": {
      "text/plain": [
       "array([[ 24.+0.j,  -8.+8.j,  -8.+0.j,  -8.-8.j],\n       [  0.+0.j,   0.+0.j,   0.+0.j,   0.+0.j],\n       [  0.+0.j,   0.+0.j,   0.+0.j,   0.+0.j],\n       [  0.+0.j,   0.+0.j,   0.+0.j,   0.+0.j]])"
      ]
     },
     "execution_count": 182,
     "metadata": {},
     "output_type": "execute_result"
    }
   ],
   "source": [
    "np.fft.fft2(xv)"
   ]
  },
  {
   "cell_type": "code",
   "execution_count": null,
   "metadata": {},
   "outputs": [],
   "source": [
    ""
   ]
  }
 ],
 "metadata": {
  "kernelspec": {
   "display_name": "Python 2",
   "language": "python",
   "name": "python2"
  },
  "language_info": {
   "codemirror_mode": {
    "name": "ipython",
    "version": 2.0
   },
   "file_extension": ".py",
   "mimetype": "text/x-python",
   "name": "python",
   "nbconvert_exporter": "python",
   "pygments_lexer": "ipython2",
   "version": "2.7.6"
  }
 },
 "nbformat": 4,
 "nbformat_minor": 0
}