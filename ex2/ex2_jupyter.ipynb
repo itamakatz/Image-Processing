{
 "cells": [
  {
   "cell_type": "code",
   "execution_count": 19,
   "metadata": {},
   "outputs": [],
   "source": [
    "%matplotlib inline\n",
    "import matplotlib.pyplot as plt\n",
    "import numpy as np"
   ]
  },
  {
   "cell_type": "code",
   "execution_count": 22,
   "metadata": {},
   "outputs": [],
   "source": [
    "x = np.linspace(-2, 2, 5)\n",
    "xx = x + 1j * x[:, np.newaxis] # a + ib over complex plane\n",
    "out = np.exp(xx)"
   ]
  },
  {
   "cell_type": "code",
   "execution_count": 26,
   "metadata": {},
   "outputs": [
    {
     "data": {
      "text/plain": [
       "array([[-2.-2.j, -1.-2.j,  0.-2.j,  1.-2.j,  2.-2.j],\n       [-2.-1.j, -1.-1.j,  0.-1.j,  1.-1.j,  2.-1.j],\n       [-2.+0.j, -1.+0.j,  0.+0.j,  1.+0.j,  2.+0.j],\n       [-2.+1.j, -1.+1.j,  0.+1.j,  1.+1.j,  2.+1.j],\n       [-2.+2.j, -1.+2.j,  0.+2.j,  1.+2.j,  2.+2.j]])"
      ]
     },
     "execution_count": 26,
     "metadata": {},
     "output_type": "execute_result"
    }
   ],
   "source": [
    "xx"
   ]
  },
  {
   "cell_type": "code",
   "execution_count": 27,
   "metadata": {},
   "outputs": [
    {
     "data": {
      "text/plain": [
       "array([[-0.05631935-0.12306002j, -0.15309187-0.33451183j,\n        -0.41614684-0.90929743j, -1.13120438-2.47172667j,\n        -3.07493232-6.7188497j ],\n       [ 0.07312197-0.11388071j,  0.19876611-0.30955988j,\n         0.54030231-0.84147098j,  1.46869394-2.28735529j,\n         3.99232405-6.21767631j],\n       [ 0.13533528+0.j        ,  0.36787944+0.j        ,\n         1.00000000+0.j        ,  2.71828183+0.j        ,  7.38905610+0.j        ],\n       [ 0.07312197+0.11388071j,  0.19876611+0.30955988j,\n         0.54030231+0.84147098j,  1.46869394+2.28735529j,\n         3.99232405+6.21767631j],\n       [-0.05631935+0.12306002j, -0.15309187+0.33451183j,\n        -0.41614684+0.90929743j, -1.13120438+2.47172667j,\n        -3.07493232+6.7188497j ]])"
      ]
     },
     "execution_count": 27,
     "metadata": {},
     "output_type": "execute_result"
    }
   ],
   "source": [
    "out"
   ]
  },
  {
   "cell_type": "code",
   "execution_count": null,
   "metadata": {},
   "outputs": [],
   "source": [
    ""
   ]
  }
 ],
 "metadata": {
  "kernelspec": {
   "display_name": "Python 2",
   "language": "python",
   "name": "python2"
  },
  "language_info": {
   "codemirror_mode": {
    "name": "ipython",
    "version": 2.0
   },
   "file_extension": ".py",
   "mimetype": "text/x-python",
   "name": "python",
   "nbconvert_exporter": "python",
   "pygments_lexer": "ipython2",
   "version": "2.7.6"
  }
 },
 "nbformat": 4,
 "nbformat_minor": 0
}